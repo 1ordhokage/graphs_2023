{
 "cells": [
  {
   "cell_type": "code",
   "execution_count": 88,
   "metadata": {
    "pycharm": {
     "name": "#%%\n"
    }
   },
   "outputs": [],
   "source": [
    "import pandas as pd\n",
    "import numpy as np\n",
    "import time"
   ]
  },
  {
   "cell_type": "code",
   "execution_count": 56,
   "metadata": {
    "pycharm": {
     "name": "#%%\n"
    }
   },
   "outputs": [
    {
     "name": "stdout",
     "output_type": "stream",
     "text": [
      "   from  to  weight   timestamp\n",
      "0     1   2       1  1082008561\n",
      "1     3   4       1  1082123439\n",
      "2     5   2       1  1082381991\n",
      "3     6   7       1  1082407219\n",
      "4     8   7       1  1082407356\n"
     ]
    },
    {
     "name": "stderr",
     "output_type": "stream",
     "text": [
      "/var/folders/wc/28hh_w_d5zn4rvtk1bw0_g700000gn/T/ipykernel_4794/3009724296.py:1: ParserWarning: Falling back to the 'python' engine because the 'c' engine does not support regex separators (separators > 1 char and different from '\\s+' are interpreted as regex); you can avoid this warning by specifying engine='python'.\n",
      "  graph = pd.read_csv(\n"
     ]
    }
   ],
   "source": [
    "graph = pd.read_csv(\n",
    "    \"data/opsahl-ucsocial/out.opsahl-ucsocial\", \n",
    "    names=[\"from\", \"to\", \"weight\", \"timestamp\"],\n",
    "    sep=\" |\\t\",\n",
    "    skiprows=[0, 1]\n",
    ")\n",
    "print(graph.head())"
   ]
  },
  {
   "cell_type": "code",
   "execution_count": 57,
   "metadata": {
    "pycharm": {
     "name": "#%%\n"
    }
   },
   "outputs": [
    {
     "name": "stdout",
     "output_type": "stream",
     "text": [
      "n = 1899, volume = 59835\n"
     ]
    }
   ],
   "source": [
    "V = np.unique(graph[\"from\"]._append(graph[\"to\"]))\n",
    "n = V.size\n",
    "volume = graph[\"timestamp\"].size\n",
    "print(f\"{n = }, {volume = }\")"
   ]
  },
  {
   "cell_type": "code",
   "execution_count": 100,
   "metadata": {},
   "outputs": [],
   "source": [
    "graph_static = [set() for _ in range(n +1)]\n",
    "for row_number, row in graph.iterrows():\n",
    "    graph_static[row[\"from\"]].add(row[\"to\"])\n",
    "    graph_static[row[\"to\"]].add(row[\"from\"])\n"
   ]
  },
  {
   "cell_type": "code",
   "execution_count": 155,
   "metadata": {},
   "outputs": [
    {
     "name": "stdout",
     "output_type": "stream",
     "text": [
      "13838\n",
      "0.007678601848568738\n"
     ]
    }
   ],
   "source": [
    "E_count = 0\n",
    "for i in range(len(graph_static)):\n",
    "    E_count += len(graph_static[i])\n",
    "E_count //= 2\n",
    "print(E_count)\n",
    "\n",
    "p = E_count * 2 / (n * (n - 1))\n",
    "print(p)"
   ]
  },
  {
   "cell_type": "code",
   "execution_count": 169,
   "metadata": {},
   "outputs": [
    {
     "name": "stdout",
     "output_type": "stream",
     "text": [
      "max_connectivity_component_index = 0, proportion = 0.9968404423380727\n"
     ]
    }
   ],
   "source": [
    "V_to_visit = set(V)\n",
    "connectivity_components = []\n",
    "while(V_to_visit):\n",
    "    V_visited = set()\n",
    "    queue = []\n",
    "    for u in V_to_visit:\n",
    "        queue.append(u)\n",
    "        break\n",
    "    while queue:\n",
    "        u = queue.pop()\n",
    "        V_to_visit.discard(u)\n",
    "        V_visited.add(u)\n",
    "        u_adjacent_to_visit = graph_static[u].difference(V_visited)\n",
    "        for v in u_adjacent_to_visit:\n",
    "            if v not in queue:\n",
    "                queue.append(v)\n",
    "    connectivity_components.append(V_visited)\n",
    "\n",
    "sizes = list(map(lambda x: len(x), connectivity_components))\n",
    "max_val = max(sizes)\n",
    "max_connectivity_component_index = sizes.index(max_val)\n",
    "proportion = max_val / len(V)\n",
    "print(f\"{max_connectivity_component_index = }, {proportion = }\")\n",
    "\n",
    "       \n",
    "    \n"
   ]
  },
  {
   "cell_type": "code",
   "execution_count": 170,
   "metadata": {},
   "outputs": [
    {
     "name": "stdout",
     "output_type": "stream",
     "text": [
      "|V| = 1899, |E| = 13838, p = 0.007679, number of components = 4, max component proportion = 0.996840\n"
     ]
    }
   ],
   "source": [
    "# 1.1\n",
    "print(\"|V| = %i, |E| = %i, p = %f, number of components = %i, max component proportion = %f\" \n",
    "      % (n, E_count, p, len(connectivity_components), proportion))"
   ]
  },
  {
   "cell_type": "code",
   "execution_count": 167,
   "metadata": {},
   "outputs": [
    {
     "name": "stdout",
     "output_type": "stream",
     "text": [
      "8\n"
     ]
    }
   ],
   "source": [
    "component = list(connectivity_components[max_connectivity_component_index])\n",
    "eccentricities = dict()\n",
    "for start in component:\n",
    "    V_visited = set()\n",
    "    queue = [(start, 0)]\n",
    "    queued = set([start])\n",
    "    max_depth = 0\n",
    "    while queue:\n",
    "        u, depth = queue.pop(0)\n",
    "        max_depth = max(max_depth, depth)\n",
    "        queued.discard(u)\n",
    "        V_visited.add(u)\n",
    "        u_adjacent_to_visit = graph_static[u].difference(V_visited)\n",
    "        for v in u_adjacent_to_visit:\n",
    "            if v not in queued:\n",
    "                queue.append((v, depth + 1))\n",
    "                queued.add(v)\n",
    "    eccentricities[start] = max_depth"
   ]
  },
  {
   "cell_type": "code",
   "execution_count": 121,
   "metadata": {},
   "outputs": [],
   "source": [
    "# start = time.time()\n",
    "# a = [] * (10**6)\n",
    "# for i in range(len(a)):\n",
    "#     a[i] = set()\n",
    "# end = time.time()\n",
    "# print(end - start)\n",
    "\n",
    "# start = time.time()\n",
    "# a = [set() for i in range(10**6)]\n",
    "# end = time.time()\n",
    "# print(end - start)\n",
    "\n"
   ]
  },
  {
   "cell_type": "code",
   "execution_count": 168,
   "metadata": {},
   "outputs": [],
   "source": [
    "diameter = max(eccentricities.values())\n",
    "radius = min(eccentricities.values())"
   ]
  },
  {
   "cell_type": "code",
   "execution_count": 171,
   "metadata": {},
   "outputs": [
    {
     "name": "stdout",
     "output_type": "stream",
     "text": [
      "diameter = 8, raduis = 4\n"
     ]
    }
   ],
   "source": [
    "# 1.2\n",
    "print(\"diameter = %i, raduis = %i\" \n",
    "      % (diameter, radius))"
   ]
  },
  {
   "cell_type": "code",
   "execution_count": null,
   "metadata": {},
   "outputs": [],
   "source": [
    "#1.3\n",
    "print(\"Cl_average = %f\" % (0))"
   ]
  }
 ],
 "metadata": {
  "kernelspec": {
   "display_name": "Python 3 (ipykernel)",
   "language": "python",
   "name": "python3"
  },
  "language_info": {
   "codemirror_mode": {
    "name": "ipython",
    "version": 3
   },
   "file_extension": ".py",
   "mimetype": "text/x-python",
   "name": "python",
   "nbconvert_exporter": "python",
   "pygments_lexer": "ipython3",
   "version": "3.10.10"
  }
 },
 "nbformat": 4,
 "nbformat_minor": 1
}
